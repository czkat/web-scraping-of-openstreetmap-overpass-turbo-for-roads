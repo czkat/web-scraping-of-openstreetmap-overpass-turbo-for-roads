{
 "cells": [
  {
   "cell_type": "code",
   "execution_count": null,
   "metadata": {},
   "outputs": [],
   "source": [
    "import overpy\n",
    "import requests\n",
    "import json\n",
    "import geojson\n",
    "import geopandas as gpd\n",
    "\n",
    "overpass_url = \"http://overpass-api.de/api/interpreter\"\n",
    "\n",
    "overpass_query = \"\"\"\n",
    "[timeout:10000][maxsize:1073741824][out:json];\n",
    "\n",
    "( \n",
    "    way[\"highway\"]\n",
    "    (-3.039994,104.664429,-2.862389,104.851540);\n",
    ");\n",
    "out geom;\n",
    ">;\n",
    "out skel qt;\n",
    "\"\"\"\n",
    "\n",
    "######## send http request ##########\n",
    "response = requests.get(overpass_url, \n",
    "                        params={'data': overpass_query})\n",
    "\n",
    "#response 200, means request succeeded.\n",
    "#print(response) \n",
    "\n",
    "response.raise_for_status()\n",
    "\n",
    "######## json #########\n",
    "data = response.json()\n",
    "#response.json() #response.json() only outputs parsed json data, but not in json format\n",
    "\n",
    "######## json to file #########\n",
    "import pathlib\n",
    "pathlib.Path('palembang.json').write_bytes(response.content)"
   ]
  }
 ],
 "metadata": {
  "kernelspec": {
   "display_name": "Python 3",
   "language": "python",
   "name": "python3"
  },
  "language_info": {
   "codemirror_mode": {
    "name": "ipython",
    "version": 3
   },
   "file_extension": ".py",
   "mimetype": "text/x-python",
   "name": "python",
   "nbconvert_exporter": "python",
   "pygments_lexer": "ipython3",
   "version": "3.7.4"
  }
 },
 "nbformat": 4,
 "nbformat_minor": 2
}
